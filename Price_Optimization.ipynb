{
 "cells": [
  {
   "cell_type": "markdown",
   "metadata": {},
   "source": [
    "# Price Optimization"
   ]
  },
  {
   "cell_type": "markdown",
   "metadata": {},
   "source": [
    "## Import Libraries"
   ]
  },
  {
   "cell_type": "code",
   "execution_count": 28,
   "metadata": {},
   "outputs": [],
   "source": [
    "from pandas import DataFrame,Series,read_excel,read_csv,to_datetime,to_numeric,options\n",
    "from numpy import ndarray,arange,argmax,inf\n",
    "from matplotlib.pyplot import figure,axvline,xlabel,ylabel,title,legend,grid,show,ylim,xticks,xlim,plot,axhline,annotate\n",
    "import matplotlib.pyplot as plt\n",
    "from sklearn.utils.extmath import safe_sparse_dot\n",
    "from sklearn.linear_model import LinearRegression\n",
    "from sklearn.tree import DecisionTreeRegressor,plot_tree\n",
    "from sklearn.ensemble import GradientBoostingRegressor\n",
    "from xgboost import XGBRegressor\n",
    "from warnings import filterwarnings\n",
    "from pyodbc import connect\n",
    "from sklearn.model_selection import train_test_split\n",
    "from sklearn.metrics import mean_absolute_error\n",
    "from IPython.display import clear_output\n",
    "from catboost import CatBoostRegressor\n",
    "from sklearn.neighbors import KNeighborsRegressor\n",
    "import matplotlib.ticker as tick\n",
    "from scipy.signal import find_peaks\n",
    "filterwarnings('ignore')"
   ]
  },
  {
   "cell_type": "code",
   "execution_count": 2,
   "metadata": {},
   "outputs": [],
   "source": [
    "options.display.float_format = \"{:,.2f}\".format"
   ]
  },
  {
   "cell_type": "markdown",
   "metadata": {},
   "source": [
    "## Connect to SQL"
   ]
  },
  {
   "cell_type": "code",
   "execution_count": 3,
   "metadata": {},
   "outputs": [],
   "source": [
    "server = 'MOE'\n",
    "database = 'prod_WeisMarkets_RecoverNow'\n",
    "connectionString = f'DRIVER={{ODBC Driver 17 for SQL Server}};SERVER={server};DATABASE={database};Integrated Security={True};Autocommit={True};Trusted_Connection=yes;'\n",
    "conn = connect(connectionString)\n",
    "cursor_1 = conn.cursor()"
   ]
  },
  {
   "cell_type": "markdown",
   "metadata": {},
   "source": [
    "## Supporting Functions"
   ]
  },
  {
   "cell_type": "code",
   "execution_count": 4,
   "metadata": {},
   "outputs": [],
   "source": [
    "def get_data(columns:list,upc:str) -> DataFrame:\n",
    "\tcursor_1.execute(f\"\"\"\n",
    "\t\t\tDECLARE @upc BIGINT = {upc}\n",
    "\t\t\tDECLARE @top_rows INT = 100000\n",
    "\n",
    "\t\t\tSELECT TOP(@top_rows) s.ScanDate,s.StoreNbr,s.UPCNbr,s.ScanQty,s.ScanAmt,s.Retail_ATG,m.CaseCost,m.CasePack,m.CaseCost/m.CasePack AS UnitVndrPrice\n",
    "\t\t\t\tFROM [MOE].[prod_WeisMarkets_RecoverNow_Scan].[dbo].[ATG_MOVEMENT_202201] m\n",
    "\t\t\t\tJOIN [MOE].[prod_WeisMarkets_RecoverNow_Scan].[dbo].[ATG_SCAN_202201] s ON\n",
    "\t\t\t\ts.ClientFamilyID_ATG=m.ClientFamilyID_ATG\n",
    "\t\t\t\tAND s.BusinessUnit=m.BusinessUnit\n",
    "\t\t\t\tAND s.StoreNbr=m.ShipTo_StoreNbr\n",
    "\t\t\t\tAND s.UPCNbr=m.UPCNbr\n",
    "\t\t\t\tWHERE\n",
    "\t\t\t\t\ts.UPCNbr=@upc\n",
    "\n",
    "\t\t\tUNION ALL\n",
    "\n",
    "\t\t\tSELECT TOP(@top_rows) s.ScanDate,s.StoreNbr,s.UPCNbr,s.ScanQty,s.ScanAmt,s.Retail_ATG,m.CaseCost,m.CasePack,m.CaseCost/m.CasePack AS UnitVndrPrice\n",
    "\t\t\t\tFROM [MOE].[prod_WeisMarkets_RecoverNow_Scan].[dbo].[ATG_MOVEMENT_202202] m\n",
    "\t\t\t\tJOIN [MOE].[prod_WeisMarkets_RecoverNow_Scan].[dbo].[ATG_SCAN_202202] s ON\n",
    "\t\t\t\ts.ClientFamilyID_ATG=m.ClientFamilyID_ATG\n",
    "\t\t\t\tAND s.BusinessUnit=m.BusinessUnit\n",
    "\t\t\t\tAND s.StoreNbr=m.ShipTo_StoreNbr\n",
    "\t\t\t\tAND s.UPCNbr=m.UPCNbr\n",
    "\t\t\t\tWHERE\n",
    "\t\t\t\t\ts.UPCNbr=@upc\n",
    "\n",
    "\t\t\tUNION ALL\n",
    "\n",
    "\t\t\tSELECT TOP(@top_rows) s.ScanDate,s.StoreNbr,s.UPCNbr,s.ScanQty,s.ScanAmt,s.Retail_ATG,m.CaseCost,m.CasePack,m.CaseCost/m.CasePack AS UnitVndrPrice\n",
    "\t\t\t\tFROM [MOE].[prod_WeisMarkets_RecoverNow_Scan].[dbo].[ATG_MOVEMENT_202203] m\n",
    "\t\t\t\tJOIN [MOE].[prod_WeisMarkets_RecoverNow_Scan].[dbo].[ATG_SCAN_202203] s ON\n",
    "\t\t\t\ts.ClientFamilyID_ATG=m.ClientFamilyID_ATG\n",
    "\t\t\t\tAND s.BusinessUnit=m.BusinessUnit\n",
    "\t\t\t\tAND s.StoreNbr=m.ShipTo_StoreNbr\n",
    "\t\t\t\tAND s.UPCNbr=m.UPCNbr\n",
    "\t\t\t\tWHERE\n",
    "\t\t\t\t\ts.UPCNbr=@upc\n",
    "\n",
    "\t\t\tUNION ALL\n",
    "\n",
    "\t\t\tSELECT TOP(@top_rows) s.ScanDate,s.StoreNbr,s.UPCNbr,s.ScanQty,s.ScanAmt,s.Retail_ATG,m.CaseCost,m.CasePack,m.CaseCost/m.CasePack AS UnitVndrPrice\n",
    "\t\t\t\tFROM [MOE].[prod_WeisMarkets_RecoverNow_Scan].[dbo].[ATG_MOVEMENT_202204] m\n",
    "\t\t\t\tJOIN [MOE].[prod_WeisMarkets_RecoverNow_Scan].[dbo].[ATG_SCAN_202204] s ON\n",
    "\t\t\t\ts.ClientFamilyID_ATG=m.ClientFamilyID_ATG\n",
    "\t\t\t\tAND s.BusinessUnit=m.BusinessUnit\n",
    "\t\t\t\tAND s.StoreNbr=m.ShipTo_StoreNbr\n",
    "\t\t\t\tAND s.UPCNbr=m.UPCNbr\n",
    "\t\t\t\tWHERE\n",
    "\t\t\t\t\ts.UPCNbr=@upc\n",
    "\n",
    "\t\t\tUNION ALL\n",
    "\n",
    "\t\t\tSELECT TOP(@top_rows) s.ScanDate,s.StoreNbr,s.UPCNbr,s.ScanQty,s.ScanAmt,s.Retail_ATG,m.CaseCost,m.CasePack,m.CaseCost/m.CasePack AS UnitVndrPrice\n",
    "\t\t\t\tFROM [MOE].[prod_WeisMarkets_RecoverNow_Scan].[dbo].[ATG_MOVEMENT_202205] m\n",
    "\t\t\t\tJOIN [MOE].[prod_WeisMarkets_RecoverNow_Scan].[dbo].[ATG_SCAN_202205] s ON\n",
    "\t\t\t\ts.ClientFamilyID_ATG=m.ClientFamilyID_ATG\n",
    "\t\t\t\tAND s.BusinessUnit=m.BusinessUnit\n",
    "\t\t\t\tAND s.StoreNbr=m.ShipTo_StoreNbr\n",
    "\t\t\t\tAND s.UPCNbr=m.UPCNbr\n",
    "\t\t\t\tWHERE\n",
    "\t\t\t\t\ts.UPCNbr=@upc\n",
    "\n",
    "\t\t\tUNION ALL\n",
    "\n",
    "\t\t\tSELECT TOP(@top_rows) s.ScanDate,s.StoreNbr,s.UPCNbr,s.ScanQty,s.ScanAmt,s.Retail_ATG,m.CaseCost,m.CasePack,m.CaseCost/m.CasePack AS UnitVndrPrice\n",
    "\t\t\t\tFROM [MOE].[prod_WeisMarkets_RecoverNow_Scan].[dbo].[ATG_MOVEMENT_202206] m\n",
    "\t\t\t\tJOIN [MOE].[prod_WeisMarkets_RecoverNow_Scan].[dbo].[ATG_SCAN_202206] s ON\n",
    "\t\t\t\ts.ClientFamilyID_ATG=m.ClientFamilyID_ATG\n",
    "\t\t\t\tAND s.BusinessUnit=m.BusinessUnit\n",
    "\t\t\t\tAND s.StoreNbr=m.ShipTo_StoreNbr\n",
    "\t\t\t\tAND s.UPCNbr=m.UPCNbr\n",
    "\t\t\t\tWHERE\n",
    "\t\t\t\t\ts.UPCNbr=@upc\n",
    "\n",
    "\t\t\tUNION ALL\n",
    "\n",
    "\t\t\tSELECT TOP(@top_rows) s.ScanDate,s.StoreNbr,s.UPCNbr,s.ScanQty,s.ScanAmt,s.Retail_ATG,m.CaseCost,m.CasePack,m.CaseCost/m.CasePack AS UnitVndrPrice\n",
    "\t\t\t\tFROM [MOE].[prod_WeisMarkets_RecoverNow_Scan].[dbo].[ATG_MOVEMENT_202207] m\n",
    "\t\t\t\tJOIN [MOE].[prod_WeisMarkets_RecoverNow_Scan].[dbo].[ATG_SCAN_202207] s ON\n",
    "\t\t\t\ts.ClientFamilyID_ATG=m.ClientFamilyID_ATG\n",
    "\t\t\t\tAND s.BusinessUnit=m.BusinessUnit\n",
    "\t\t\t\tAND s.StoreNbr=m.ShipTo_StoreNbr\n",
    "\t\t\t\tAND s.UPCNbr=m.UPCNbr\n",
    "\t\t\t\tWHERE\n",
    "\t\t\t\t\ts.UPCNbr=@upc\n",
    "\n",
    "\t\t\tUNION ALL\n",
    "\n",
    "\t\t\tSELECT TOP(@top_rows) s.ScanDate,s.StoreNbr,s.UPCNbr,s.ScanQty,s.ScanAmt,s.Retail_ATG,m.CaseCost,m.CasePack,m.CaseCost/m.CasePack AS UnitVndrPrice\n",
    "\t\t\t\tFROM [MOE].[prod_WeisMarkets_RecoverNow_Scan].[dbo].[ATG_MOVEMENT_202208] m\n",
    "\t\t\t\tJOIN [MOE].[prod_WeisMarkets_RecoverNow_Scan].[dbo].[ATG_SCAN_202208] s ON\n",
    "\t\t\t\ts.ClientFamilyID_ATG=m.ClientFamilyID_ATG\n",
    "\t\t\t\tAND s.BusinessUnit=m.BusinessUnit\n",
    "\t\t\t\tAND s.StoreNbr=m.ShipTo_StoreNbr\n",
    "\t\t\t\tAND s.UPCNbr=m.UPCNbr\n",
    "\t\t\t\tWHERE\n",
    "\t\t\t\t\ts.UPCNbr=@upc\n",
    "\n",
    "\t\t\tUNION ALL\n",
    "\n",
    "\t\t\tSELECT TOP(@top_rows) s.ScanDate,s.StoreNbr,s.UPCNbr,s.ScanQty,s.ScanAmt,s.Retail_ATG,m.CaseCost,m.CasePack,m.CaseCost/m.CasePack AS UnitVndrPrice\n",
    "\t\t\t\tFROM [MOE].[prod_WeisMarkets_RecoverNow_Scan].[dbo].[ATG_MOVEMENT_202209] m\n",
    "\t\t\t\tJOIN [MOE].[prod_WeisMarkets_RecoverNow_Scan].[dbo].[ATG_SCAN_202209] s ON\n",
    "\t\t\t\ts.ClientFamilyID_ATG=m.ClientFamilyID_ATG\n",
    "\t\t\t\tAND s.BusinessUnit=m.BusinessUnit\n",
    "\t\t\t\tAND s.StoreNbr=m.ShipTo_StoreNbr\n",
    "\t\t\t\tAND s.UPCNbr=m.UPCNbr\n",
    "\t\t\t\tWHERE\n",
    "\t\t\t\t\ts.UPCNbr=@upc\n",
    "\n",
    "\t\t\tUNION ALL\n",
    "\n",
    "\t\t\tSELECT TOP(@top_rows) s.ScanDate,s.StoreNbr,s.UPCNbr,s.ScanQty,s.ScanAmt,s.Retail_ATG,m.CaseCost,m.CasePack,m.CaseCost/m.CasePack AS UnitVndrPrice\n",
    "\t\t\t\tFROM [MOE].[prod_WeisMarkets_RecoverNow_Scan].[dbo].[ATG_MOVEMENT_202210] m\n",
    "\t\t\t\tJOIN [MOE].[prod_WeisMarkets_RecoverNow_Scan].[dbo].[ATG_SCAN_202210] s ON\n",
    "\t\t\t\ts.ClientFamilyID_ATG=m.ClientFamilyID_ATG\n",
    "\t\t\t\tAND s.BusinessUnit=m.BusinessUnit\n",
    "\t\t\t\tAND s.StoreNbr=m.ShipTo_StoreNbr\n",
    "\t\t\t\tAND s.UPCNbr=m.UPCNbr\n",
    "\t\t\t\tWHERE\n",
    "\t\t\t\t\ts.UPCNbr=@upc\n",
    "\n",
    "\t\t\tUNION ALL\n",
    "\n",
    "\t\t\tSELECT TOP(@top_rows) s.ScanDate,s.StoreNbr,s.UPCNbr,s.ScanQty,s.ScanAmt,s.Retail_ATG,m.CaseCost,m.CasePack,m.CaseCost/m.CasePack AS UnitVndrPrice\n",
    "\t\t\t\tFROM [MOE].[prod_WeisMarkets_RecoverNow_Scan].[dbo].[ATG_MOVEMENT_202211] m\n",
    "\t\t\t\tJOIN [MOE].[prod_WeisMarkets_RecoverNow_Scan].[dbo].[ATG_SCAN_202211] s ON\n",
    "\t\t\t\ts.ClientFamilyID_ATG=m.ClientFamilyID_ATG\n",
    "\t\t\t\tAND s.BusinessUnit=m.BusinessUnit\n",
    "\t\t\t\tAND s.StoreNbr=m.ShipTo_StoreNbr\n",
    "\t\t\t\tAND s.UPCNbr=m.UPCNbr\n",
    "\t\t\t\tWHERE\n",
    "\t\t\t\t\ts.UPCNbr=@upc\n",
    "\n",
    "\t\t\tUNION ALL\n",
    "\n",
    "\t\t\tSELECT TOP(@top_rows) s.ScanDate,s.StoreNbr,s.UPCNbr,s.ScanQty,s.ScanAmt,s.Retail_ATG,m.CaseCost,m.CasePack,m.CaseCost/m.CasePack AS UnitVndrPrice\n",
    "\t\t\t\tFROM [MOE].[prod_WeisMarkets_RecoverNow_Scan].[dbo].[ATG_MOVEMENT_202212] m\n",
    "\t\t\t\tJOIN [MOE].[prod_WeisMarkets_RecoverNow_Scan].[dbo].[ATG_SCAN_202212] s ON\n",
    "\t\t\t\ts.ClientFamilyID_ATG=m.ClientFamilyID_ATG\n",
    "\t\t\t\tAND s.BusinessUnit=m.BusinessUnit\n",
    "\t\t\t\tAND s.StoreNbr=m.ShipTo_StoreNbr\n",
    "\t\t\t\tAND s.UPCNbr=m.UPCNbr\n",
    "\t\t\t\tWHERE\n",
    "\t\t\t\t\ts.UPCNbr=@upc\n",
    "\n",
    "\t\t\tUNION ALL\n",
    "\n",
    "\t\t\tSELECT TOP(@top_rows) s.ScanDate,s.StoreNbr,s.UPCNbr,s.ScanQty,s.ScanAmt,s.Retail_ATG,m.CaseCost,m.CasePack,m.CaseCost/m.CasePack AS UnitVndrPrice\n",
    "\t\t\t\tFROM [MOE].[prod_WeisMarkets_RecoverNow_Scan].[dbo].[ATG_MOVEMENT_202301] m\n",
    "\t\t\t\tJOIN [MOE].[prod_WeisMarkets_RecoverNow_Scan].[dbo].[ATG_SCAN_202301] s ON\n",
    "\t\t\t\ts.ClientFamilyID_ATG=m.ClientFamilyID_ATG\n",
    "\t\t\t\tAND s.BusinessUnit=m.BusinessUnit\n",
    "\t\t\t\tAND s.StoreNbr=m.ShipTo_StoreNbr\n",
    "\t\t\t\tAND s.UPCNbr=m.UPCNbr\n",
    "\t\t\t\tWHERE\n",
    "\t\t\t\t\ts.UPCNbr=@upc\n",
    "\n",
    "\t\t\tUNION ALL\n",
    "\n",
    "\t\t\tSELECT TOP(@top_rows) s.ScanDate,s.StoreNbr,s.UPCNbr,s.ScanQty,s.ScanAmt,s.Retail_ATG,m.CaseCost,m.CasePack,m.CaseCost/m.CasePack AS UnitVndrPrice\n",
    "\t\t\t\tFROM [MOE].[prod_WeisMarkets_RecoverNow_Scan].[dbo].[ATG_MOVEMENT_202302] m\n",
    "\t\t\t\tJOIN [MOE].[prod_WeisMarkets_RecoverNow_Scan].[dbo].[ATG_SCAN_202302] s ON\n",
    "\t\t\t\ts.ClientFamilyID_ATG=m.ClientFamilyID_ATG\n",
    "\t\t\t\tAND s.BusinessUnit=m.BusinessUnit\n",
    "\t\t\t\tAND s.StoreNbr=m.ShipTo_StoreNbr\n",
    "\t\t\t\tAND s.UPCNbr=m.UPCNbr\n",
    "\t\t\t\tWHERE\n",
    "\t\t\t\t\ts.UPCNbr=@upc\n",
    "\n",
    "\t\t\tUNION ALL\n",
    "\n",
    "\t\t\tSELECT TOP(@top_rows) s.ScanDate,s.StoreNbr,s.UPCNbr,s.ScanQty,s.ScanAmt,s.Retail_ATG,m.CaseCost,m.CasePack,m.CaseCost/m.CasePack AS UnitVndrPrice\n",
    "\t\t\t\tFROM [MOE].[prod_WeisMarkets_RecoverNow_Scan].[dbo].[ATG_MOVEMENT_202303] m\n",
    "\t\t\t\tJOIN [MOE].[prod_WeisMarkets_RecoverNow_Scan].[dbo].[ATG_SCAN_202303] s ON\n",
    "\t\t\t\ts.ClientFamilyID_ATG=m.ClientFamilyID_ATG\n",
    "\t\t\t\tAND s.BusinessUnit=m.BusinessUnit\n",
    "\t\t\t\tAND s.StoreNbr=m.ShipTo_StoreNbr\n",
    "\t\t\t\tAND s.UPCNbr=m.UPCNbr\n",
    "\t\t\t\tWHERE\n",
    "\t\t\t\t\ts.UPCNbr=@upc\n",
    "\n",
    "\t\t\tUNION ALL\n",
    "\n",
    "\t\t\tSELECT TOP(@top_rows) s.ScanDate,s.StoreNbr,s.UPCNbr,s.ScanQty,s.ScanAmt,s.Retail_ATG,m.CaseCost,m.CasePack,m.CaseCost/m.CasePack AS UnitVndrPrice\n",
    "\t\t\t\tFROM [MOE].[prod_WeisMarkets_RecoverNow_Scan].[dbo].[ATG_MOVEMENT_202304] m\n",
    "\t\t\t\tJOIN [MOE].[prod_WeisMarkets_RecoverNow_Scan].[dbo].[ATG_SCAN_202304] s ON\n",
    "\t\t\t\ts.ClientFamilyID_ATG=m.ClientFamilyID_ATG\n",
    "\t\t\t\tAND s.BusinessUnit=m.BusinessUnit\n",
    "\t\t\t\tAND s.StoreNbr=m.ShipTo_StoreNbr\n",
    "\t\t\t\tAND s.UPCNbr=m.UPCNbr\n",
    "\t\t\t\tWHERE\n",
    "\t\t\t\t\ts.UPCNbr=@upc\n",
    "\n",
    "\t\t\tUNION ALL\n",
    "\n",
    "\t\t\tSELECT TOP(@top_rows) s.ScanDate,s.StoreNbr,s.UPCNbr,s.ScanQty,s.ScanAmt,s.Retail_ATG,m.CaseCost,m.CasePack,m.CaseCost/m.CasePack AS UnitVndrPrice\n",
    "\t\t\t\tFROM [MOE].[prod_WeisMarkets_RecoverNow_Scan].[dbo].[ATG_MOVEMENT_202305] m\n",
    "\t\t\t\tJOIN [MOE].[prod_WeisMarkets_RecoverNow_Scan].[dbo].[ATG_SCAN_202305] s ON\n",
    "\t\t\t\ts.ClientFamilyID_ATG=m.ClientFamilyID_ATG\n",
    "\t\t\t\tAND s.BusinessUnit=m.BusinessUnit\n",
    "\t\t\t\tAND s.StoreNbr=m.ShipTo_StoreNbr\n",
    "\t\t\t\tAND s.UPCNbr=m.UPCNbr\n",
    "\t\t\t\tWHERE\n",
    "\t\t\t\t\ts.UPCNbr=@upc\n",
    "\n",
    "\t\t\tUNION ALL\n",
    "\n",
    "\t\t\tSELECT TOP(@top_rows) s.ScanDate,s.StoreNbr,s.UPCNbr,s.ScanQty,s.ScanAmt,s.Retail_ATG,m.CaseCost,m.CasePack,m.CaseCost/m.CasePack AS UnitVndrPrice\n",
    "\t\t\t\tFROM [MOE].[prod_WeisMarkets_RecoverNow_Scan].[dbo].[ATG_MOVEMENT_202306] m\n",
    "\t\t\t\tJOIN [MOE].[prod_WeisMarkets_RecoverNow_Scan].[dbo].[ATG_SCAN_202306] s ON\n",
    "\t\t\t\ts.ClientFamilyID_ATG=m.ClientFamilyID_ATG\n",
    "\t\t\t\tAND s.BusinessUnit=m.BusinessUnit\n",
    "\t\t\t\tAND s.StoreNbr=m.ShipTo_StoreNbr\n",
    "\t\t\t\tAND s.UPCNbr=m.UPCNbr\n",
    "\t\t\t\tWHERE\n",
    "\t\t\t\t\ts.UPCNbr=@upc\n",
    "\n",
    "\t\t\tUNION ALL\n",
    "\n",
    "\t\t\tSELECT TOP(@top_rows) s.ScanDate,s.StoreNbr,s.UPCNbr,s.ScanQty,s.ScanAmt,s.Retail_ATG,m.CaseCost,m.CasePack,m.CaseCost/m.CasePack AS UnitVndrPrice\n",
    "\t\t\t\tFROM [MOE].[prod_WeisMarkets_RecoverNow_Scan].[dbo].[ATG_MOVEMENT_202307] m\n",
    "\t\t\t\tJOIN [MOE].[prod_WeisMarkets_RecoverNow_Scan].[dbo].[ATG_SCAN_202307] s ON\n",
    "\t\t\t\ts.ClientFamilyID_ATG=m.ClientFamilyID_ATG\n",
    "\t\t\t\tAND s.BusinessUnit=m.BusinessUnit\n",
    "\t\t\t\tAND s.StoreNbr=m.ShipTo_StoreNbr\n",
    "\t\t\t\tAND s.UPCNbr=m.UPCNbr\n",
    "\t\t\t\tWHERE\n",
    "\t\t\t\t\ts.UPCNbr=@upc\n",
    "\n",
    "\t\t\tUNION ALL\n",
    "\n",
    "\t\t\tSELECT TOP(@top_rows) s.ScanDate,s.StoreNbr,s.UPCNbr,s.ScanQty,s.ScanAmt,s.Retail_ATG,m.CaseCost,m.CasePack,m.CaseCost/m.CasePack AS UnitVndrPrice\n",
    "\t\t\t\tFROM [MOE].[prod_WeisMarkets_RecoverNow_Scan].[dbo].[ATG_MOVEMENT_202308] m\n",
    "\t\t\t\tJOIN [MOE].[prod_WeisMarkets_RecoverNow_Scan].[dbo].[ATG_SCAN_202308] s ON\n",
    "\t\t\t\ts.ClientFamilyID_ATG=m.ClientFamilyID_ATG\n",
    "\t\t\t\tAND s.BusinessUnit=m.BusinessUnit\n",
    "\t\t\t\tAND s.StoreNbr=m.ShipTo_StoreNbr\n",
    "\t\t\t\tAND s.UPCNbr=m.UPCNbr\n",
    "\t\t\t\tWHERE\n",
    "\t\t\t\t\ts.UPCNbr=@upc\n",
    "\n",
    "\t\t\tUNION ALL\n",
    "\n",
    "\t\t\tSELECT TOP(@top_rows) s.ScanDate,s.StoreNbr,s.UPCNbr,s.ScanQty,s.ScanAmt,s.Retail_ATG,m.CaseCost,m.CasePack,m.CaseCost/m.CasePack AS UnitVndrPrice\n",
    "\t\t\t\tFROM [MOE].[prod_WeisMarkets_RecoverNow_Scan].[dbo].[ATG_MOVEMENT_202309] m\n",
    "\t\t\t\tJOIN [MOE].[prod_WeisMarkets_RecoverNow_Scan].[dbo].[ATG_SCAN_202309] s ON\n",
    "\t\t\t\ts.ClientFamilyID_ATG=m.ClientFamilyID_ATG\n",
    "\t\t\t\tAND s.BusinessUnit=m.BusinessUnit\n",
    "\t\t\t\tAND s.StoreNbr=m.ShipTo_StoreNbr\n",
    "\t\t\t\tAND s.UPCNbr=m.UPCNbr\n",
    "\t\t\t\tWHERE\n",
    "\t\t\t\t\ts.UPCNbr=@upc\n",
    "\n",
    "\t\t\tUNION ALL\n",
    "\n",
    "\t\t\tSELECT TOP(@top_rows) s.ScanDate,s.StoreNbr,s.UPCNbr,s.ScanQty,s.ScanAmt,s.Retail_ATG,m.CaseCost,m.CasePack,m.CaseCost/m.CasePack AS UnitVndrPrice\n",
    "\t\t\t\tFROM [MOE].[prod_WeisMarkets_RecoverNow_Scan].[dbo].[ATG_MOVEMENT_202310] m\n",
    "\t\t\t\tJOIN [MOE].[prod_WeisMarkets_RecoverNow_Scan].[dbo].[ATG_SCAN_202310] s ON\n",
    "\t\t\t\ts.ClientFamilyID_ATG=m.ClientFamilyID_ATG\n",
    "\t\t\t\tAND s.BusinessUnit=m.BusinessUnit\n",
    "\t\t\t\tAND s.StoreNbr=m.ShipTo_StoreNbr\n",
    "\t\t\t\tAND s.UPCNbr=m.UPCNbr\n",
    "\t\t\t\tWHERE\n",
    "\t\t\t\t\ts.UPCNbr=@upc\n",
    "\n",
    "\t\t\tUNION ALL\n",
    "\n",
    "\t\t\tSELECT TOP(@top_rows) s.ScanDate,s.StoreNbr,s.UPCNbr,s.ScanQty,s.ScanAmt,s.Retail_ATG,m.CaseCost,m.CasePack,m.CaseCost/m.CasePack AS UnitVndrPrice\n",
    "\t\t\t\tFROM [MOE].[prod_WeisMarkets_RecoverNow_Scan].[dbo].[ATG_MOVEMENT_202311] m\n",
    "\t\t\t\tJOIN [MOE].[prod_WeisMarkets_RecoverNow_Scan].[dbo].[ATG_SCAN_202311] s ON\n",
    "\t\t\t\ts.ClientFamilyID_ATG=m.ClientFamilyID_ATG\n",
    "\t\t\t\tAND s.BusinessUnit=m.BusinessUnit\n",
    "\t\t\t\tAND s.StoreNbr=m.ShipTo_StoreNbr\n",
    "\t\t\t\tAND s.UPCNbr=m.UPCNbr\n",
    "\t\t\t\tWHERE\n",
    "\t\t\t\t\ts.UPCNbr=@upc\n",
    "\n",
    "\t\t\tUNION ALL\n",
    "\n",
    "\t\t\tSELECT TOP(@top_rows) s.ScanDate,s.StoreNbr,s.UPCNbr,s.ScanQty,s.ScanAmt,s.Retail_ATG,m.CaseCost,m.CasePack,m.CaseCost/m.CasePack AS UnitVndrPrice\n",
    "\t\t\t\tFROM [MOE].[prod_WeisMarkets_RecoverNow_Scan].[dbo].[ATG_MOVEMENT_202312] m\n",
    "\t\t\t\tJOIN [MOE].[prod_WeisMarkets_RecoverNow_Scan].[dbo].[ATG_SCAN_202312] s ON\n",
    "\t\t\t\ts.ClientFamilyID_ATG=m.ClientFamilyID_ATG\n",
    "\t\t\t\tAND s.BusinessUnit=m.BusinessUnit\n",
    "\t\t\t\tAND s.StoreNbr=m.ShipTo_StoreNbr\n",
    "\t\t\t\tAND s.UPCNbr=m.UPCNbr\n",
    "\t\t\t\tWHERE\n",
    "\t\t\t\t\ts.UPCNbr=@upc\n",
    "\n",
    "\t\t\tUNION ALL\n",
    "\n",
    "\t\t\tSELECT TOP(@top_rows) s.ScanDate,s.StoreNbr,s.UPCNbr,s.ScanQty,s.ScanAmt,s.Retail_ATG,m.CaseCost,m.CasePack,m.CaseCost/m.CasePack AS UnitVndrPrice\n",
    "\t\t\t\tFROM [MOE].[prod_WeisMarkets_RecoverNow_Scan].[dbo].[ATG_MOVEMENT_202401] m\n",
    "\t\t\t\tJOIN [MOE].[prod_WeisMarkets_RecoverNow_Scan].[dbo].[ATG_SCAN_202401] s ON\n",
    "\t\t\t\ts.ClientFamilyID_ATG=m.ClientFamilyID_ATG\n",
    "\t\t\t\tAND s.BusinessUnit=m.BusinessUnit\n",
    "\t\t\t\tAND s.StoreNbr=m.ShipTo_StoreNbr\n",
    "\t\t\t\tAND s.UPCNbr=m.UPCNbr\n",
    "\t\t\t\tWHERE\n",
    "\t\t\t\t\ts.UPCNbr=@upc\n",
    "\n",
    "\t\t\tUNION ALL\n",
    "\n",
    "\t\t\tSELECT TOP(@top_rows) s.ScanDate,s.StoreNbr,s.UPCNbr,s.ScanQty,s.ScanAmt,s.Retail_ATG,m.CaseCost,m.CasePack,m.CaseCost/m.CasePack AS UnitVndrPrice\n",
    "\t\t\t\tFROM [MOE].[prod_WeisMarkets_RecoverNow_Scan].[dbo].[ATG_MOVEMENT_202402] m\n",
    "\t\t\t\tJOIN [MOE].[prod_WeisMarkets_RecoverNow_Scan].[dbo].[ATG_SCAN_202402] s ON\n",
    "\t\t\t\ts.ClientFamilyID_ATG=m.ClientFamilyID_ATG\n",
    "\t\t\t\tAND s.BusinessUnit=m.BusinessUnit\n",
    "\t\t\t\tAND s.StoreNbr=m.ShipTo_StoreNbr\n",
    "\t\t\t\tAND s.UPCNbr=m.UPCNbr\n",
    "\t\t\t\tWHERE\n",
    "\t\t\t\t\ts.UPCNbr=@upc\n",
    "\n",
    "\t\t\tUNION ALL\n",
    "\n",
    "\t\t\tSELECT TOP(@top_rows) s.ScanDate,s.StoreNbr,s.UPCNbr,s.ScanQty,s.ScanAmt,s.Retail_ATG,m.CaseCost,m.CasePack,m.CaseCost/m.CasePack AS UnitVndrPrice\n",
    "\t\t\t\tFROM [MOE].[prod_WeisMarkets_RecoverNow_Scan].[dbo].[ATG_MOVEMENT_202403] m\n",
    "\t\t\t\tJOIN [MOE].[prod_WeisMarkets_RecoverNow_Scan].[dbo].[ATG_SCAN_202403] s ON\n",
    "\t\t\t\ts.ClientFamilyID_ATG=m.ClientFamilyID_ATG\n",
    "\t\t\t\tAND s.BusinessUnit=m.BusinessUnit\n",
    "\t\t\t\tAND s.StoreNbr=m.ShipTo_StoreNbr\n",
    "\t\t\t\tAND s.UPCNbr=m.UPCNbr\n",
    "\t\t\t\tWHERE\n",
    "\t\t\t\t\ts.UPCNbr=@upc\n",
    "\n",
    "\t\t\tUNION ALL\n",
    "\n",
    "\t\t\tSELECT TOP(@top_rows) s.ScanDate,s.StoreNbr,s.UPCNbr,s.ScanQty,s.ScanAmt,s.Retail_ATG,m.CaseCost,m.CasePack,m.CaseCost/m.CasePack AS UnitVndrPrice\n",
    "\t\t\t\tFROM [MOE].[prod_WeisMarkets_RecoverNow_Scan].[dbo].[ATG_MOVEMENT_202404] m\n",
    "\t\t\t\tJOIN [MOE].[prod_WeisMarkets_RecoverNow_Scan].[dbo].[ATG_SCAN_202404] s ON\n",
    "\t\t\t\ts.ClientFamilyID_ATG=m.ClientFamilyID_ATG\n",
    "\t\t\t\tAND s.BusinessUnit=m.BusinessUnit\n",
    "\t\t\t\tAND s.StoreNbr=m.ShipTo_StoreNbr\n",
    "\t\t\t\tAND s.UPCNbr=m.UPCNbr\n",
    "\t\t\t\tWHERE\n",
    "\t\t\t\t\ts.UPCNbr=@upc\n",
    "\n",
    "\t\t\tUNION ALL\n",
    "\n",
    "\t\t\tSELECT TOP(@top_rows) s.ScanDate,s.StoreNbr,s.UPCNbr,s.ScanQty,s.ScanAmt,s.Retail_ATG,m.CaseCost,m.CasePack,m.CaseCost/m.CasePack AS UnitVndrPrice\n",
    "\t\t\t\tFROM [MOE].[prod_WeisMarkets_RecoverNow_Scan].[dbo].[ATG_MOVEMENT_202405] m\n",
    "\t\t\t\tJOIN [MOE].[prod_WeisMarkets_RecoverNow_Scan].[dbo].[ATG_SCAN_202405] s ON\n",
    "\t\t\t\ts.ClientFamilyID_ATG=m.ClientFamilyID_ATG\n",
    "\t\t\t\tAND s.BusinessUnit=m.BusinessUnit\n",
    "\t\t\t\tAND s.StoreNbr=m.ShipTo_StoreNbr\n",
    "\t\t\t\tAND s.UPCNbr=m.UPCNbr\n",
    "\t\t\t\tWHERE\n",
    "\t\t\t\t\ts.UPCNbr=@upc\n",
    "\n",
    "\t\t\tUNION ALL\n",
    "\n",
    "\t\t\tSELECT TOP(@top_rows) s.ScanDate,s.StoreNbr,s.UPCNbr,s.ScanQty,s.ScanAmt,s.Retail_ATG,m.CaseCost,m.CasePack,m.CaseCost/m.CasePack AS UnitVndrPrice\n",
    "\t\t\t\tFROM [MOE].[prod_WeisMarkets_RecoverNow_Scan].[dbo].[ATG_MOVEMENT_202406] m\n",
    "\t\t\t\tJOIN [MOE].[prod_WeisMarkets_RecoverNow_Scan].[dbo].[ATG_SCAN_202406] s ON\n",
    "\t\t\t\ts.ClientFamilyID_ATG=m.ClientFamilyID_ATG\n",
    "\t\t\t\tAND s.BusinessUnit=m.BusinessUnit\n",
    "\t\t\t\tAND s.StoreNbr=m.ShipTo_StoreNbr\n",
    "\t\t\t\tAND s.UPCNbr=m.UPCNbr\n",
    "\t\t\t\tWHERE\n",
    "\t\t\t\t\ts.UPCNbr=@upc\n",
    "\n",
    "\t\t\tUNION ALL\n",
    "\n",
    "\t\t\tSELECT TOP(@top_rows) s.ScanDate,s.StoreNbr,s.UPCNbr,s.ScanQty,s.ScanAmt,s.Retail_ATG,m.CaseCost,m.CasePack,m.CaseCost/m.CasePack AS UnitVndrPrice\n",
    "\t\t\t\tFROM [MOE].[prod_WeisMarkets_RecoverNow_Scan].[dbo].[ATG_MOVEMENT_202407] m\n",
    "\t\t\t\tJOIN [MOE].[prod_WeisMarkets_RecoverNow_Scan].[dbo].[ATG_SCAN_202407] s ON\n",
    "\t\t\t\ts.ClientFamilyID_ATG=m.ClientFamilyID_ATG\n",
    "\t\t\t\tAND s.BusinessUnit=m.BusinessUnit\n",
    "\t\t\t\tAND s.StoreNbr=m.ShipTo_StoreNbr\n",
    "\t\t\t\tAND s.UPCNbr=m.UPCNbr\n",
    "\t\t\t\tWHERE\n",
    "\t\t\t\t\ts.UPCNbr=@upc\n",
    "\t\t\t\tORDER BY\n",
    "\t\t\t\t\ts.Retail_ATG\n",
    "\t    \"\"\")\n",
    "\tdata:list = cursor_1.fetchall()\n",
    "\tdata_list:list = []\n",
    "\tfor index in range(len(data)):\n",
    "\t\tdata_list.append(list(data[index]))\n",
    "\tdel data\n",
    "\treturn DataFrame(data=data_list,columns=columns)"
   ]
  },
  {
   "cell_type": "code",
   "execution_count": 5,
   "metadata": {},
   "outputs": [],
   "source": [
    "def optimize_price(model:LinearRegression, X_sample:DataFrame, df_original:DataFrame, price_range:ndarray) -> tuple[float,float]:\n",
    "    best_price = None\n",
    "    best_margin = -inf\n",
    "    \n",
    "    for price in price_range:\n",
    "        #X_sample_copy['Retail_ATG'] = price\n",
    "        \n",
    "        # Get the corresponding row from the original dataframe\n",
    "        original_row = df_original.loc[X_sample.name]\n",
    "\n",
    "        predicted_sales = model.predict([X_sample])[0]\n",
    "        margin = (X_sample['Retail_ATG'] - original_row['UnitVndrPrice']) * predicted_sales\n",
    "        \n",
    "        if margin > best_margin:\n",
    "            best_margin = margin\n",
    "            best_price = price\n",
    "            \n",
    "    return best_price, best_margin"
   ]
  },
  {
   "cell_type": "markdown",
   "metadata": {},
   "source": [
    "## Global Variables"
   ]
  },
  {
   "cell_type": "code",
   "execution_count": 6,
   "metadata": {},
   "outputs": [],
   "source": [
    "random_state:int = 100\n",
    "upc:str = '3400029005'"
   ]
  },
  {
   "cell_type": "code",
   "execution_count": 7,
   "metadata": {},
   "outputs": [],
   "source": [
    "columns:list = [\n",
    "\t\t\"ScanDate\",\n",
    "        \"StoreNbr\",\n",
    "\t\t\"UPCNbr\",\n",
    "\t\t\"ScanQty\",\n",
    "\t\t\"ScanAmt\",\n",
    "\t\t\"Retail_ATG\",\n",
    "        \"CaseCost\",\n",
    "        \"CasePack\",\n",
    "        \"UnitVndrPrice\"\n",
    "    ]"
   ]
  },
  {
   "cell_type": "markdown",
   "metadata": {},
   "source": [
    "## Loading/Cleaning Data"
   ]
  },
  {
   "cell_type": "code",
   "execution_count": 8,
   "metadata": {},
   "outputs": [],
   "source": [
    "df:DataFrame = get_data(columns=columns,upc=upc)"
   ]
  },
  {
   "cell_type": "code",
   "execution_count": 9,
   "metadata": {},
   "outputs": [],
   "source": [
    "df_original = df.copy()"
   ]
  },
  {
   "cell_type": "code",
   "execution_count": 10,
   "metadata": {},
   "outputs": [],
   "source": [
    "df['Year'] = df['ScanDate'].dt.year\n",
    "df['Month'] = df['ScanDate'].dt.month\n",
    "df['Day'] = df['ScanDate'].dt.day_of_week\n",
    "df = df.drop(['ScanDate'], axis=1)\n",
    "df = df.dropna()"
   ]
  },
  {
   "cell_type": "code",
   "execution_count": 11,
   "metadata": {},
   "outputs": [],
   "source": [
    "df['ScanQty'] = df['ScanQty'].astype(float)\n",
    "df['ScanAmt'] = df['ScanAmt'].astype(float)\n",
    "df['Retail_ATG'] = df['Retail_ATG'].astype(float)\n",
    "df['CaseCost'] = df['CaseCost'].astype(float)\n",
    "df['CasePack'] = df['CasePack'].astype(float)\n",
    "df['UnitVndrPrice'] = df['UnitVndrPrice'].astype(float)"
   ]
  },
  {
   "cell_type": "code",
   "execution_count": 12,
   "metadata": {},
   "outputs": [],
   "source": [
    "df = df.sort_values(by=['Retail_ATG','Year','Month','Day'])"
   ]
  },
  {
   "cell_type": "code",
   "execution_count": 13,
   "metadata": {},
   "outputs": [],
   "source": [
    "df['Margin_Unit'] = df['Retail_ATG'] - df['UnitVndrPrice']"
   ]
  },
  {
   "cell_type": "code",
   "execution_count": 14,
   "metadata": {},
   "outputs": [],
   "source": [
    "df['Margin_Total'] = (df['Retail_ATG'] - df['UnitVndrPrice'])*(df['ScanQty'])"
   ]
  },
  {
   "cell_type": "code",
   "execution_count": 15,
   "metadata": {},
   "outputs": [],
   "source": [
    "df['Cumulative_Margin_Total'] = df.groupby('Retail_ATG')['Margin_Total'].cumsum()"
   ]
  },
  {
   "cell_type": "code",
   "execution_count": 16,
   "metadata": {},
   "outputs": [],
   "source": [
    "df['Cumulative_Sales_By_Price'] = df.groupby('Retail_ATG')['ScanAmt'].cumsum()"
   ]
  },
  {
   "cell_type": "code",
   "execution_count": 17,
   "metadata": {},
   "outputs": [],
   "source": [
    "total_sales_by_price = df.groupby('Retail_ATG')['ScanAmt'].sum().reset_index()\n",
    "total_sales_by_price.columns = ['Retail_ATG', 'Total_Sales_By_Price']\n",
    "\n",
    "# Merge this total sales data back to the original DataFrame\n",
    "df = df.merge(total_sales_by_price, on='Retail_ATG', how='left')"
   ]
  },
  {
   "cell_type": "code",
   "execution_count": 18,
   "metadata": {},
   "outputs": [],
   "source": [
    "df['Cumulative_Total_Sales'] = df['ScanAmt'].cumsum()"
   ]
  },
  {
   "cell_type": "code",
   "execution_count": 19,
   "metadata": {},
   "outputs": [],
   "source": [
    "df['Cumulative_Margin_Percent'] = df['Cumulative_Margin_Total'] / df['Cumulative_Sales_By_Price'] * 100"
   ]
  },
  {
   "cell_type": "markdown",
   "metadata": {},
   "source": [
    "## Price Optimizing Using ML"
   ]
  },
  {
   "cell_type": "code",
   "execution_count": 20,
   "metadata": {},
   "outputs": [],
   "source": [
    "X:DataFrame = df[['Retail_ATG','UnitVndrPrice']]#df.drop(['Retail_ATG'], axis=1)\n",
    "y:Series = df['ScanQty']"
   ]
  },
  {
   "cell_type": "code",
   "execution_count": 34,
   "metadata": {},
   "outputs": [],
   "source": [
    "X:DataFrame = df[['Retail_ATG']]#df.drop(['Retail_ATG'], axis=1)\n",
    "y:Series = df['ScanQty']"
   ]
  },
  {
   "cell_type": "code",
   "execution_count": null,
   "metadata": {},
   "outputs": [],
   "source": [
    "lr:LinearRegression = LinearRegression()\n",
    "lr.fit(X, y)\n",
    "dt:DecisionTreeRegressor = DecisionTreeRegressor(max_depth=2)\n",
    "dt.fit(X,y)\n",
    "xgb:XGBRegressor = XGBRegressor()\n",
    "xgb.fit(X,y)\n",
    "cb:CatBoostRegressor = CatBoostRegressor()\n",
    "cb.fit(X,y)\n",
    "knn:KNeighborsRegressor = KNeighborsRegressor()\n",
    "knn.fit(X,y)"
   ]
  },
  {
   "cell_type": "markdown",
   "metadata": {},
   "source": [
    "## Creating Optimal Price Spreadsheet"
   ]
  },
  {
   "cell_type": "code",
   "execution_count": 22,
   "metadata": {},
   "outputs": [],
   "source": [
    "price_range:ndarray = arange(0, 7, 0.01)\n",
    "predictions:list = []\n",
    "for price in price_range:\n",
    "    current_predictions_ai:list = []\n",
    "    for model in [lr,dt,xgb,cb,knn]:\n",
    "        current_predictions_ai.append(model.predict(DataFrame([[price,X['UnitVndrPrice'].quantile(0.9)]],columns=['Retail_ATG','UnitVndrPrice'])))\n",
    "    predictions.append([price,min(current_predictions_ai),(price-X['UnitVndrPrice'].quantile(0.9))*min(current_predictions_ai)])"
   ]
  },
  {
   "cell_type": "code",
   "execution_count": null,
   "metadata": {},
   "outputs": [],
   "source": [
    "plot_tree(dt)"
   ]
  },
  {
   "cell_type": "code",
   "execution_count": null,
   "metadata": {},
   "outputs": [],
   "source": [
    "lr.coef_"
   ]
  },
  {
   "cell_type": "code",
   "execution_count": null,
   "metadata": {},
   "outputs": [],
   "source": [
    "safe_sparse_dot(X, lr.coef_,dense_output=True) + lr.intercept_"
   ]
  },
  {
   "cell_type": "code",
   "execution_count": null,
   "metadata": {},
   "outputs": [],
   "source": [
    "predicted_individual_sales_profits:DataFrame = DataFrame(columns=['Retail_Price','Vendor_Price','Predicted_Qty_Per_Transaction','Predicted_Individual_Profit'])"
   ]
  },
  {
   "cell_type": "code",
   "execution_count": null,
   "metadata": {},
   "outputs": [],
   "source": [
    "for item in predictions:\n",
    "    predicted_individual_sales_profits.loc[len(predicted_individual_sales_profits)] = [item[0],X['UnitVndrPrice'].quantile(0.9),item[1][0],item[2][0]]"
   ]
  },
  {
   "cell_type": "code",
   "execution_count": null,
   "metadata": {},
   "outputs": [],
   "source": [
    "predicted_individual_sales_profits:DataFrame = predicted_individual_sales_profits[\n",
    "    (predicted_individual_sales_profits['Predicted_Qty_Per_Transaction']>0)&\n",
    "    (predicted_individual_sales_profits['Retail_Price']>X['UnitVndrPrice'].quantile(0.9))&\n",
    "    (predicted_individual_sales_profits['Predicted_Individual_Profit']>0)]"
   ]
  },
  {
   "cell_type": "code",
   "execution_count": null,
   "metadata": {},
   "outputs": [],
   "source": [
    "predicted_individual_sales_profits.insert(0,'Current_Retail_Price',float(df_original['Retail_ATG'].mean()))\n",
    "predicted_individual_sales_profits.insert(1,'Current_Avg_Quantity',float(df_original['ScanQty'].sum()/len(df_original)))\n",
    "predicted_individual_sales_profits.insert(2,'Current_Daily_Quantity',float(df_original['ScanQty'].sum()/df_original['ScanDate'].nunique()))"
   ]
  },
  {
   "cell_type": "code",
   "execution_count": null,
   "metadata": {},
   "outputs": [],
   "source": [
    "predicted_individual_sales_profits['Predicted_Daily_Quantity'] = (predicted_individual_sales_profits['Predicted_Qty_Per_Transaction'])*(float(df_original['ScanQty'].count()/df_original['ScanDate'].nunique()))"
   ]
  },
  {
   "cell_type": "code",
   "execution_count": null,
   "metadata": {},
   "outputs": [],
   "source": [
    "predicted_individual_sales_profits['Predicted_Daily_Profit'] = abs(predicted_individual_sales_profits['Predicted_Individual_Profit'])*predicted_individual_sales_profits['Predicted_Daily_Quantity']"
   ]
  },
  {
   "cell_type": "code",
   "execution_count": null,
   "metadata": {},
   "outputs": [],
   "source": [
    "predicted_individual_sales_profits['Predicted_Yearly_Quantity'] = predicted_individual_sales_profits['Predicted_Daily_Quantity']*365"
   ]
  },
  {
   "cell_type": "code",
   "execution_count": null,
   "metadata": {},
   "outputs": [],
   "source": [
    "predicted_individual_sales_profits['Predicted_Yearly_Profit'] = predicted_individual_sales_profits['Predicted_Daily_Profit']*365"
   ]
  },
  {
   "cell_type": "code",
   "execution_count": null,
   "metadata": {},
   "outputs": [],
   "source": [
    "predicted_individual_sales_profits[predicted_individual_sales_profits['Predicted_Yearly_Profit']>0].sort_values(by='Retail_Price').to_excel(f'Predicted_Individual_Profits_{upc}.xlsx',index=False)"
   ]
  },
  {
   "cell_type": "code",
   "execution_count": null,
   "metadata": {},
   "outputs": [],
   "source": [
    "DataFrame([[str(df_original['UPCNbr'].values[0]),\n",
    "           predicted_individual_sales_profits[predicted_individual_sales_profits['Predicted_Yearly_Profit']==predicted_individual_sales_profits['Predicted_Yearly_Profit'].max()]['Retail_Price'].values[0]]],\n",
    "           columns=['UPCNbr','Optimal_Price'])"
   ]
  },
  {
   "cell_type": "code",
   "execution_count": null,
   "metadata": {},
   "outputs": [],
   "source": [
    "# Plot the results\n",
    "graph = figure(figsize=(10,6))\n",
    "ax = graph.add_subplot(1,1,1)\n",
    "ax.get_xaxis().set_major_formatter(tick.FuncFormatter(lambda x,p: format(float(x), ',.2f')))\n",
    "ax.get_yaxis().set_major_formatter(tick.FuncFormatter(lambda x,p: format(float(x), ',.2f')))\n",
    "ax.plot(predicted_individual_sales_profits['Retail_Price'], predicted_individual_sales_profits['Predicted_Yearly_Profit'], label='Revenue', color='green')\n",
    "peaks, _ = find_peaks(predicted_individual_sales_profits['Predicted_Yearly_Profit'])\n",
    "final_peaks:list = []\n",
    "for peak in peaks:\n",
    "    if(peak in [439,318,299,276,228,205]):\n",
    "        final_peaks.append(peak)\n",
    "peaks = final_peaks.copy()\n",
    "plot(predicted_individual_sales_profits['Retail_Price'][peaks], predicted_individual_sales_profits['Predicted_Yearly_Profit'][peaks], 'ro')\n",
    "axvline(predicted_individual_sales_profits[(predicted_individual_sales_profits['Predicted_Yearly_Profit']==predicted_individual_sales_profits['Predicted_Yearly_Profit'].max())]['Retail_Price'].values[0], \n",
    "        color='blue', linestyle='--', \n",
    "        label=f'Optimal Price = ${predicted_individual_sales_profits[(predicted_individual_sales_profits[\"Predicted_Yearly_Profit\"]==predicted_individual_sales_profits[\"Predicted_Yearly_Profit\"].max())][\"Retail_Price\"].values[0]:,.2f}')\n",
    "axhline(predicted_individual_sales_profits['Predicted_Yearly_Profit'].max(),\n",
    "        color='red',linestyle='--',\n",
    "        label=f'Max Revenue = ${predicted_individual_sales_profits[\"Predicted_Yearly_Profit\"].max():,.2f}')\n",
    "ylim(0,predicted_individual_sales_profits[\"Predicted_Yearly_Profit\"].max()*1.1)\n",
    "xlim(0,predicted_individual_sales_profits['Retail_Price'].max()*1.1)\n",
    "for peak in peaks:\n",
    "    offset_x:int = 0\n",
    "    offset_y:int = 0\n",
    "    if(peak==439):\n",
    "        offset_x:int = -50\n",
    "        offset_y:int = 10\n",
    "    elif(peak==318):\n",
    "        offset_x:int = 40\n",
    "        offset_y:int = 5\n",
    "    elif(peak in [299,276,228,205]):\n",
    "        offset_x:int = -40\n",
    "        offset_y:int = 5\n",
    "    annotate(f'({predicted_individual_sales_profits[\"Retail_Price\"][peak]:.2f}, {predicted_individual_sales_profits[\"Predicted_Yearly_Profit\"][peak]:.2f})', \n",
    "                 (predicted_individual_sales_profits['Retail_Price'][peak], predicted_individual_sales_profits['Predicted_Yearly_Profit'][peak]), \n",
    "                 textcoords=\"offset points\", \n",
    "                 xytext=(offset_x,offset_y), \n",
    "                 ha='center')\n",
    "xticks([round(x/100,2) for x in range(0,int((predicted_individual_sales_profits['Retail_Price'].max()*1.1)*100),50)])\n",
    "xlabel('Price ($)')\n",
    "ylabel('Revenue ($)')\n",
    "title('Price Optimization')\n",
    "legend()\n",
    "grid(True)\n",
    "show()"
   ]
  },
  {
   "cell_type": "code",
   "execution_count": null,
   "metadata": {},
   "outputs": [],
   "source": [
    "# Plot the results\n",
    "prediction_data = read_excel(f'Predicted_Individual_Profits_{upc}.xlsx').sort_values(by='Retail_Price')\n",
    "graph = figure(figsize=(10,6))\n",
    "ax = graph.add_subplot(1,1,1)\n",
    "ax.get_xaxis().set_major_formatter(tick.FuncFormatter(lambda x,p: format(float(x), ',.2f')))\n",
    "ax.get_yaxis().set_major_formatter(tick.FuncFormatter(lambda x,p: format(float(x), ',.2f')))\n",
    "ax.plot(prediction_data['Retail_Price'], prediction_data['Predicted_Yearly_Profit'], label='Profit', color='green')\n",
    "peaks, _ = find_peaks(prediction_data['Predicted_Yearly_Profit'])\n",
    "final_peaks:list = []\n",
    "for peak in peaks:\n",
    "    if(peak in [426,318,299,276,228,205]):\n",
    "        final_peaks.append(peak)\n",
    "peaks = final_peaks.copy()\n",
    "plot(prediction_data['Retail_Price'][peaks], prediction_data['Predicted_Yearly_Profit'][peaks], 'ro')\n",
    "axvline(prediction_data[(prediction_data['Predicted_Yearly_Profit']==prediction_data['Predicted_Yearly_Profit'].max())]['Retail_Price'].values[0], \n",
    "        color='blue', linestyle='--', \n",
    "        label=f'Optimal Price = ${prediction_data[(prediction_data[\"Predicted_Yearly_Profit\"]==prediction_data[\"Predicted_Yearly_Profit\"].max())][\"Retail_Price\"].values[0]:,.2f}')\n",
    "axhline(prediction_data['Predicted_Yearly_Profit'].max(),\n",
    "        color='red',linestyle='--',\n",
    "        label=f'Max Profit = ${prediction_data[\"Predicted_Yearly_Profit\"].max():,.2f}')\n",
    "ylim(0,prediction_data[\"Predicted_Yearly_Profit\"].max()*1.1)\n",
    "xlim(0,prediction_data['Retail_Price'].max()*1.1)\n",
    "for peak in peaks:\n",
    "    offset_x:int = 0\n",
    "    offset_y:int = 0\n",
    "    if(peak==426):\n",
    "        offset_x:int = 20\n",
    "        offset_y:int = -16\n",
    "    elif(peak==318):\n",
    "        offset_x:int = 40\n",
    "        offset_y:int = 5\n",
    "    elif(peak in [299,276,228,205]):\n",
    "        offset_x:int = -40\n",
    "        offset_y:int = 5\n",
    "    annotate(f'({prediction_data[\"Retail_Price\"][peak]:.2f}, {prediction_data[\"Predicted_Yearly_Profit\"][peak]:,.0f})', \n",
    "                 (prediction_data['Retail_Price'][peak], prediction_data['Predicted_Yearly_Profit'][peak]), \n",
    "                 textcoords=\"offset points\", \n",
    "                 xytext=(offset_x,offset_y), \n",
    "                 ha='center')\n",
    "xticks([round(x/100,2) for x in range(0,int((prediction_data['Retail_Price'].max()*1.1)*100),50)])\n",
    "xlabel('Price ($)')\n",
    "ylabel('Profit ($)')\n",
    "title('Price Optimization')\n",
    "legend()\n",
    "grid(True)\n",
    "show()"
   ]
  },
  {
   "cell_type": "markdown",
   "metadata": {},
   "source": [
    "## Price Optimizing From Sums"
   ]
  },
  {
   "cell_type": "code",
   "execution_count": null,
   "metadata": {},
   "outputs": [],
   "source": [
    "df_sums:DataFrame = df.groupby('Retail_ATG').sum().reset_index(drop=False)[['Retail_ATG','ScanQty','ScanAmt','Margin_Total']]"
   ]
  },
  {
   "cell_type": "code",
   "execution_count": null,
   "metadata": {},
   "outputs": [],
   "source": [
    "X:DataFrame = df_sums[['Retail_ATG']]\n",
    "y:Series = df_sums['ScanQty']"
   ]
  },
  {
   "cell_type": "code",
   "execution_count": null,
   "metadata": {},
   "outputs": [],
   "source": [
    "model.fit(X,y)"
   ]
  },
  {
   "cell_type": "code",
   "execution_count": null,
   "metadata": {},
   "outputs": [],
   "source": [
    "price_range:ndarray = arange(0, 7, 0.01)\n",
    "predictions:list = []\n",
    "for price in price_range:\n",
    "    prediction = model.predict(DataFrame([[price]]))\n",
    "    predictions.append([price,prediction,(price-df['UnitVndrPrice'].max())*prediction])\n",
    "predicted_individual_sales_profits:DataFrame = DataFrame(columns=['Retail_Price','Vendor_Price','Predicted_Qty','Predicted_Profit'])\n",
    "for item in predictions:\n",
    "    predicted_individual_sales_profits.loc[len(predicted_individual_sales_profits)] = [item[0],df['UnitVndrPrice'].max(),item[1][0],item[2][0]]\n",
    "predicted_individual_sales_profits.to_csv(f'Predicted_Total_Profits_{upc}.csv',index=False)"
   ]
  },
  {
   "cell_type": "code",
   "execution_count": null,
   "metadata": {},
   "outputs": [],
   "source": [
    "# Predict sales at different prices\n",
    "prices:ndarray = arange(0, df_sums['Retail_ATG'].max(), 0.01).reshape(-1, 1)  \n",
    "predicted_sales:ndarray = model.predict(prices)\n",
    "\n",
    "# Calculate revenue at each price point\n",
    "revenue = prices.flatten() * predicted_sales\n",
    "\n",
    "# Find the optimal price (price that maximizes revenue)\n",
    "optimal_price = prices[argmax(revenue)][0]\n",
    "max_revenue = max(revenue)"
   ]
  },
  {
   "cell_type": "code",
   "execution_count": null,
   "metadata": {},
   "outputs": [],
   "source": [
    "for rev in range(len(revenue)):\n",
    "    print(f\"{prices[rev]} : {revenue[rev]:,.2f}\")"
   ]
  },
  {
   "cell_type": "code",
   "execution_count": null,
   "metadata": {},
   "outputs": [],
   "source": [
    "# Plot the results\n",
    "graph = figure(figsize=(10,6))\n",
    "ax = graph.add_subplot(1,1,1)\n",
    "ax.get_xaxis().set_major_formatter(tick.FuncFormatter(lambda x,p: format(float(x), ',.2f')))\n",
    "ax.get_yaxis().set_major_formatter(tick.FuncFormatter(lambda x,p: format(float(x), ',.2f')))\n",
    "ax.plot(prices, revenue, label='Revenue', color='green')\n",
    "axvline(optimal_price, color='red', linestyle='--', label=f'Optimal Price = ${optimal_price:,.2f}')\n",
    "axhline(max_revenue,color='red',linestyle='--',label=f'Max Revenue = ${max_revenue:,.2f}')\n",
    "ylim(0,62_000)\n",
    "xlim(0,6)\n",
    "xticks([round(x/100,2) for x in range(0,601,50)])\n",
    "xlabel('Price ($)')\n",
    "ylabel('Revenue ($)')\n",
    "title('Price Optimization')\n",
    "legend()\n",
    "grid(True)\n",
    "show()"
   ]
  }
 ],
 "metadata": {
  "kernelspec": {
   "display_name": "Python 3",
   "language": "python",
   "name": "python3"
  },
  "language_info": {
   "codemirror_mode": {
    "name": "ipython",
    "version": 3
   },
   "file_extension": ".py",
   "mimetype": "text/x-python",
   "name": "python",
   "nbconvert_exporter": "python",
   "pygments_lexer": "ipython3",
   "version": "3.10.10"
  }
 },
 "nbformat": 4,
 "nbformat_minor": 2
}
